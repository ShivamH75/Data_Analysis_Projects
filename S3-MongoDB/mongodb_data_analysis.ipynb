{
 "cells": [
  {
   "cell_type": "markdown",
   "metadata": {},
   "source": [
    "Setup"
   ]
  },
  {
   "cell_type": "code",
   "execution_count": null,
   "metadata": {},
   "outputs": [],
   "source": [
    "from pymongo import MongoClient\n",
    "\n",
    "# dataset source\n",
    "# https://www.kaggle.com/datasets/anishvijay/global-renewable-energy-and-indicators-dataset\n",
    "\n",
    "# Database and collection variables\n",
    "db_name = 'Energy_DB'\n",
    "coll_name = 'energy_data'\n",
    "connection_string = \"mongodb://localhost:27017/\"\n",
    "\n",
    "# MongoDB client connection\n",
    "client = MongoClient(connection_string)\n",
    "\n",
    "# Access the database and collection\n",
    "db = client[db_name]\n",
    "collection = db[coll_name]\n",
    "\n",
    "# print(\"Connected to MongoDB\")"
   ]
  },
  {
   "cell_type": "markdown",
   "metadata": {},
   "source": [
    "1. Top 10 Countries by Total Energy Production"
   ]
  },
  {
   "cell_type": "code",
   "execution_count": null,
   "metadata": {},
   "outputs": [],
   "source": [
    "pipeline = [\n",
    "    {'$group': {'_id': '$country', 'total_production_gwh': {'$sum': '$production_gwh'}}},\n",
    "    {'$sort': {'total_production_gwh': -1}},\n",
    "    {'$limit': 10}\n",
    "]\n",
    "\n",
    "top_countries = list(collection.aggregate(pipeline))\n",
    "\n",
    "for country in top_countries:\n",
    "    print(country)"
   ]
  },
  {
   "cell_type": "markdown",
   "metadata": {},
   "source": [
    "2. Yearly Energy Production Trend"
   ]
  },
  {
   "cell_type": "code",
   "execution_count": null,
   "metadata": {},
   "outputs": [],
   "source": [
    "pipeline = [\n",
    "    {'$group': {'_id': '$year', 'total_production_gwh': {'$sum': '$production_gwh'}}},\n",
    "    {'$sort': {'_id': 1}}\n",
    "]\n",
    "\n",
    "yearly_trend = list(collection.aggregate(pipeline))\n",
    "\n",
    "for year in yearly_trend:\n",
    "    print(year)"
   ]
  },
  {
   "cell_type": "markdown",
   "metadata": {},
   "source": [
    "3. Total Investments by Country"
   ]
  },
  {
   "cell_type": "code",
   "execution_count": null,
   "metadata": {},
   "outputs": [],
   "source": [
    "pipeline = [\n",
    "    {'$group': {'_id': '$country', 'total_investments_usd': {'$sum': '$investments_usd'}}}\n",
    "]\n",
    "\n",
    "total_investments = list(collection.aggregate(pipeline))\n",
    "\n",
    "for country in total_investments:\n",
    "    print(country)"
   ]
  },
  {
   "cell_type": "markdown",
   "metadata": {},
   "source": [
    "4. Average Installed Capacity by Energy Type"
   ]
  },
  {
   "cell_type": "code",
   "execution_count": null,
   "metadata": {},
   "outputs": [],
   "source": [
    "pipeline = [\n",
    "    {'$group': {'_id': '$energy_type', 'avg_installed_capacity_mw': {'$avg': '$installed_capacity_mw'}}},\n",
    "     {'$sort': {'installed_capacity_mw': 1}}\n",
    "]\n",
    "\n",
    "avg_capacity = list(collection.aggregate(pipeline))\n",
    "\n",
    "for energy_type in avg_capacity:\n",
    "    print(energy_type)"
   ]
  },
  {
   "cell_type": "markdown",
   "metadata": {},
   "source": [
    "5. Top 5 Countries by Renewable Energy Jobs"
   ]
  },
  {
   "cell_type": "code",
   "execution_count": null,
   "metadata": {},
   "outputs": [],
   "source": [
    "pipeline = [\n",
    "    {'$group': {'_id': '$country', 'total_jobs': {'$sum': '$renewable_energy_jobs'}}},\n",
    "    {'$sort': {'total_jobs': -1}},\n",
    " {'$limit': 5}\n",
    "]\n",
    "\n",
    "top_jobs_countries = list(collection.aggregate(pipeline))\n",
    "\n",
    "for country in top_jobs_countries:\n",
    "    print(country)"
   ]
  },
  {
   "cell_type": "markdown",
   "metadata": {},
   "source": [
    "6. Total CO2 Emissions by Year"
   ]
  },
  {
   "cell_type": "code",
   "execution_count": null,
   "metadata": {},
   "outputs": [],
   "source": [
    "pipeline = [\n",
    "    {'$group': {'_id': '$year', 'total_co2_emissions': {'$sum': '$co2_emissions'}}},\n",
    "    {'$sort': {'_id': 1}}\n",
    "]\n",
    "\n",
    "co2_emissions_yearly = list(collection.aggregate(pipeline))\n",
    "\n",
    "for year in co2_emissions_yearly:\n",
    "    print(year)"
   ]
  },
  {
   "cell_type": "markdown",
   "metadata": {},
   "source": [
    "7. Average Energy Consumption by Country"
   ]
  },
  {
   "cell_type": "code",
   "execution_count": null,
   "metadata": {},
   "outputs": [],
   "source": [
    "pipeline = [\n",
    "    {'$group': {'_id': '$country', 'avg_energy_consumption': {'$avg': '$energy_consumption'}}}\n",
    "]\n",
    "\n",
    "avg_consumption = list(collection.aggregate(pipeline))\n",
    "\n",
    "for country in avg_consumption:\n",
    "    print(country)"
   ]
  },
  {
   "cell_type": "markdown",
   "metadata": {},
   "source": [
    "8. Total Energy Exports by Country"
   ]
  },
  {
   "cell_type": "code",
   "execution_count": null,
   "metadata": {},
   "outputs": [],
   "source": [
    "pipeline = [\n",
    "    {'$group': {'_id': '$country', 'total_energy_exports': {'$sum': '$energy_exports'}}}\n",
    "]\n",
    "\n",
    "total_exports = list(collection.aggregate(pipeline))\n",
    "\n",
    "for country in total_exports:\n",
    "    print(country)"
   ]
  },
  {
   "cell_type": "markdown",
   "metadata": {},
   "source": [
    "9. Energy Production by Energy Type"
   ]
  },
  {
   "cell_type": "code",
   "execution_count": null,
   "metadata": {},
   "outputs": [],
   "source": [
    "pipeline = [\n",
    "    {'$group': {'_id': '$energy_type', 'total_production_gwh': {'$sum': '$production_gwh'}}}\n",
    "]\n",
    "\n",
    "production_by_type = list(collection.aggregate(pipeline))\n",
    "\n",
    "for energy_type in production_by_type:\n",
    "    print(energy_type)"
   ]
  },
  {
   "cell_type": "markdown",
   "metadata": {},
   "source": [
    "10. Top 5 Countries by Energy Storage Capacity"
   ]
  },
  {
   "cell_type": "code",
   "execution_count": null,
   "metadata": {},
   "outputs": [],
   "source": [
    "pipeline = [\n",
    "    {'$group': {'_id': '$country', 'total_storage_capacity': {'$sum': '$energy_storage_capacity'}}},\n",
    "    {'$sort': {'total_storage_capacity': -1}},\n",
    "    {'$limit': 5}\n",
    "]\n",
    "\n",
    "top_storage_countries = list(collection.aggregate(pipeline))\n",
    "\n",
    "for country in top_storage_countries:\n",
    "    print(country)"
   ]
  },
  {
   "cell_type": "markdown",
   "metadata": {},
   "source": [
    "11. Government Policies Impact on Renewable Energy Jobs"
   ]
  },
  {
   "cell_type": "code",
   "execution_count": null,
   "metadata": {},
   "outputs": [],
   "source": [
    "pipeline = [\n",
    "    {'$group': {'_id': '$government_policies', 'total_jobs': {'$sum': '$renewable_energy_jobs'}}}\n",
    "]\n",
    "\n",
    "policies_impact = list(collection.aggregate(pipeline))\n",
    "\n",
    "for policy in policies_impact:\n",
    "    print(policy)"
   ]
  },
  {
   "cell_type": "markdown",
   "metadata": {},
   "source": [
    "12. Total Energy Imports by Year"
   ]
  },
  {
   "cell_type": "code",
   "execution_count": null,
   "metadata": {},
   "outputs": [],
   "source": [
    "pipeline = [\n",
    "    {'$group': {'_id': '$year', 'total_energy_imports': {'$sum': '$energy_imports'}}},\n",
    "    {'$sort': {'_id': 1}}\n",
    "]\n",
    "\n",
    "total_imports = list(collection.aggregate(pipeline))\n",
    "\n",
    "for year in total_imports:\n",
    "    print(year)"
   ]
  },
  {
   "cell_type": "markdown",
   "metadata": {},
   "source": [
    "13. R&D Expenditure by Country"
   ]
  },
  {
   "cell_type": "code",
   "execution_count": null,
   "metadata": {},
   "outputs": [],
   "source": [
    "pipeline = [\n",
    "    {'$group': {'_id': '$country', 'total_r_d_expenditure': {'$sum': '$r_d_expenditure'}}}\n",
    "]\n",
    "\n",
    "r_d_expenditure = list(collection.aggregate(pipeline))\n",
    "\n",
    "for country in r_d_expenditure:\n",
    "    print(country)"
   ]
  },
  {
   "cell_type": "markdown",
   "metadata": {},
   "source": [
    "14. Renewable Energy Targets by Country"
   ]
  },
  {
   "cell_type": "code",
   "execution_count": null,
   "metadata": {},
   "outputs": [],
   "source": [
    "pipeline = [\n",
    "    {'$group': {'_id': '$country', 'renewable_targets': {'$sum': '$renewable_energy_targets'}}}\n",
    "]\n",
    "\n",
    "renewable_targets = list(collection.aggregate(pipeline))\n",
    "\n",
    "for country in renewable_targets:\n",
    "    print(country)"
   ]
  },
  {
   "cell_type": "markdown",
   "metadata": {},
   "source": [
    "15. Average Annual Temperature by Country"
   ]
  },
  {
   "cell_type": "code",
   "execution_count": 20,
   "metadata": {},
   "outputs": [
    {
     "name": "stdout",
     "output_type": "stream",
     "text": [
      "{'_id': 'USA', 'avg_annual_temperature': 14.96959825004681}\n",
      "{'_id': 'China', 'avg_annual_temperature': 15.201040376652672}\n",
      "{'_id': 'Canada', 'avg_annual_temperature': 15.342242834717949}\n",
      "{'_id': 'India', 'avg_annual_temperature': 14.982111585172692}\n",
      "{'_id': 'Australia', 'avg_annual_temperature': 14.260279256318368}\n",
      "{'_id': 'Brazil', 'avg_annual_temperature': 15.389531557495902}\n",
      "{'_id': 'Germany', 'avg_annual_temperature': 14.363869723609959}\n",
      "{'_id': 'Japan', 'avg_annual_temperature': 15.683473013574298}\n",
      "{'_id': 'Russia', 'avg_annual_temperature': 16.89341493207347}\n",
      "{'_id': 'France', 'avg_annual_temperature': 16.394380793993243}\n"
     ]
    }
   ],
   "source": [
    "pipeline = [\n",
    "    {'$group': {'_id': '$country', 'avg_annual_temperature': {'$avg': '$average_annual_temperature'}}}\n",
    "]\n",
    "\n",
    "avg_temperature = list(collection.aggregate(pipeline))\n",
    "\n",
    "for country in avg_temperature:\n",
    "    print(country)"
   ]
  },
  {
   "cell_type": "markdown",
   "metadata": {},
   "source": [
    "16. Annual Rainfall by Year"
   ]
  },
  {
   "cell_type": "code",
   "execution_count": null,
   "metadata": {},
   "outputs": [],
   "source": [
    "pipeline = [\n",
    "    {'$group': {'_id': '$year', 'total_annual_rainfall': {'$sum': '$annual_rainfall'}}},\n",
    "    {'$sort': {'_id': 1}}\n",
    "]\n",
    "\n",
    "annual_rainfall = list(collection.aggregate(pipeline))\n",
    "\n",
    "for year in annual_rainfall:\n",
    "    print(year)"
   ]
  },
  {
   "cell_type": "markdown",
   "metadata": {},
   "source": [
    "17. Solar Irradiance by Country"
   ]
  },
  {
   "cell_type": "code",
   "execution_count": 21,
   "metadata": {},
   "outputs": [
    {
     "name": "stdout",
     "output_type": "stream",
     "text": [
      "{'_id': 'Japan', 'avg_solar_irradiance': 198.1466703437751}\n",
      "{'_id': 'India', 'avg_solar_irradiance': 196.69693376706826}\n",
      "{'_id': 'China', 'avg_solar_irradiance': 198.58650462251907}\n",
      "{'_id': 'Australia', 'avg_solar_irradiance': 201.70951575020408}\n",
      "{'_id': 'Canada', 'avg_solar_irradiance': 201.060972541453}\n",
      "{'_id': 'Brazil', 'avg_solar_irradiance': 206.0617007815574}\n",
      "{'_id': 'Russia', 'avg_solar_irradiance': 199.60541028816328}\n",
      "{'_id': 'USA', 'avg_solar_irradiance': 198.22615820595746}\n",
      "{'_id': 'France', 'avg_solar_irradiance': 204.11540423952704}\n",
      "{'_id': 'Germany', 'avg_solar_irradiance': 198.9315383614108}\n"
     ]
    }
   ],
   "source": [
    "pipeline = [\n",
    "    {'$group': {'_id': '$country', 'avg_solar_irradiance': {'$avg': '$solar_irradiance'}}}\n",
    "]\n",
    "\n",
    "solar_irradiance = list(collection.aggregate(pipeline))\n",
    "\n",
    "for country in solar_irradiance:\n",
    "    print(country)"
   ]
  },
  {
   "cell_type": "markdown",
   "metadata": {},
   "source": [
    "18. Wind Speed by Country"
   ]
  },
  {
   "cell_type": "code",
   "execution_count": null,
   "metadata": {},
   "outputs": [],
   "source": [
    "pipeline = [\n",
    "    {'$group': {'_id': '$country', 'avg_wind_speed': {'$avg': '$wind_speed'}}}\n",
    "]\n",
    "\n",
    "wind_speed = list(collection.aggregate(pipeline))\n",
    "\n",
    "for country in wind_speed:\n",
    "    print(country)"
   ]
  },
  {
   "cell_type": "markdown",
   "metadata": {},
   "source": [
    "19. Hydro Potential by Country"
   ]
  },
  {
   "cell_type": "code",
   "execution_count": null,
   "metadata": {},
   "outputs": [],
   "source": [
    "pipeline = [\n",
    "    {'$group': {'_id': '$country', 'total_hydro_potential': {'$sum': '$hydro_potential'}}}\n",
    "]\n",
    "\n",
    "hydro_potential = list(collection.aggregate(pipeline))\n",
    "\n",
    "for country in hydro_potential:\n",
    "    print(country)"
   ]
  },
  {
   "cell_type": "markdown",
   "metadata": {},
   "source": [
    "20. Geothermal Potential by Country"
   ]
  },
  {
   "cell_type": "code",
   "execution_count": null,
   "metadata": {},
   "outputs": [],
   "source": [
    "pipeline = [\n",
    "    {'$group': {'_id': '$country', 'total_geothermal_potential': {'$sum': '$geothermal_potential'}}}\n",
    "]\n",
    "\n",
    "geothermal_potential = list(collection.aggregate(pipeline))\n",
    "\n",
    "for country in geothermal_potential:\n",
    "    print(country)"
   ]
  },
  {
   "cell_type": "markdown",
   "metadata": {},
   "source": [
    "21. Biomass Availability by Country"
   ]
  },
  {
   "cell_type": "code",
   "execution_count": null,
   "metadata": {},
   "outputs": [],
   "source": [
    "pipeline = [\n",
    "    {'$group': {'_id': '$country', 'total_biomass_availability': {'$sum': '$biomass_availability'}}}\n",
    "]\n",
    "\n",
    "biomass_availability = list(collection.aggregate(pipeline)\n",
    "                           )\n",
    "for country in biomass_availability:\n",
    "    print(country)"
   ]
  },
  {
   "cell_type": "markdown",
   "metadata": {},
   "source": [
    "22. Grid Integration Capability by Country"
   ]
  },
  {
   "cell_type": "code",
   "execution_count": null,
   "metadata": {},
   "outputs": [],
   "source": [
    "pipeline = [\n",
    "    {'$group': {'_id': '$country', 'grid_integration_capability': {'$sum': '$grid_integration_capability'}}}\n",
    "]\n",
    "\n",
    "grid_integration = list(collection.aggregate(pipeline))\n",
    "\n",
    "for country in grid_integration:\n",
    "    print(country)"
   ]
  },
  {
   "cell_type": "markdown",
   "metadata": {},
   "source": [
    "23. Electricity Prices by Country"
   ]
  },
  {
   "cell_type": "code",
   "execution_count": null,
   "metadata": {},
   "outputs": [],
   "source": [
    "pipeline = [\n",
    "    {'$group': {'_id': '$country', 'avg_electricity_prices': {'$avg': '$electricity_prices'}}}\n",
    "]\n",
    "\n",
    "electricity_prices = list(collection.aggregate(pipeline))\n",
    "\n",
    "for country in electricity_prices:\n",
    "    print(country)"
   ]
  },
  {
   "cell_type": "markdown",
   "metadata": {},
   "source": [
    "24. Energy Subsidies by Country"
   ]
  },
  {
   "cell_type": "code",
   "execution_count": null,
   "metadata": {},
   "outputs": [],
   "source": [
    "pipeline = [\n",
    "    {'$group': {'_id': '$country', 'total_energy_subsidies': {'$sum': '$energy_subsidies'}}}\n",
    "]\n",
    "\n",
    "energy_subsidies = list(collection.aggregate(pipeline))\n",
    "\n",
    "for country in energy_subsidies:\n",
    "    print(country)"
   ]
  },
  {
   "cell_type": "markdown",
   "metadata": {},
   "source": [
    "25. Impact of Natural Disasters on Energy Production"
   ]
  },
  {
   "cell_type": "code",
   "execution_count": null,
   "metadata": {},
   "outputs": [],
   "source": [
    "pipeline = [\n",
    "    {'$match': {'natural_disasters': {'$ne': None}}},\n",
    "    {'$group': {'_id': '$natural_disasters', 'total_production_gwh': {'$sum': '$production_gwh'}}}\n",
    "]\n",
    "\n",
    "disaster_impact = list(collection.aggregate(pipeline))\n",
    "\n",
    "for disaster in disaster_impact:\n",
    "    print(disaster)"
   ]
  }
 ],
 "metadata": {
  "kernelspec": {
   "display_name": "Python 3 (ipykernel)",
   "language": "python",
   "name": "python3"
  },
  "language_info": {
   "codemirror_mode": {
    "name": "ipython",
    "version": 3
   },
   "file_extension": ".py",
   "mimetype": "text/x-python",
   "name": "python",
   "nbconvert_exporter": "python",
   "pygments_lexer": "ipython3",
   "version": "3.12.3"
  }
 },
 "nbformat": 4,
 "nbformat_minor": 4
}
