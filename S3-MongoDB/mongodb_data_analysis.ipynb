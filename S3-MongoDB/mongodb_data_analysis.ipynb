{
 "cells": [
  {
   "cell_type": "markdown",
   "metadata": {},
   "source": [
    "## Setup with Database"
   ]
  },
  {
   "cell_type": "code",
   "execution_count": 1,
   "metadata": {},
   "outputs": [],
   "source": [
    "# Import 'pymongo' library used to connect python with mongodb\n",
    "from pymongo import MongoClient\n",
    "\n",
    "# Database and collection variables\n",
    "db_name = 'Energy_DB'\n",
    "coll_name = 'energy_data'\n",
    "connection_string = \"mongodb://localhost:27017/\"\n",
    "\n",
    "# MongoDB client connection\n",
    "client = MongoClient(connection_string)\n",
    "\n",
    "# Access the database and collection\n",
    "db = client[db_name]\n",
    "collection = db[coll_name]\n",
    "\n",
    "# print(\"Connected to MongoDB\")"
   ]
  },
  {
   "cell_type": "markdown",
   "metadata": {},
   "source": [
    "## Data Analysis using MongoDB Queries"
   ]
  },
  {
   "cell_type": "markdown",
   "metadata": {},
   "source": [
    "### 1. Top 10 Countries by Total Energy Production"
   ]
  },
  {
   "cell_type": "code",
   "execution_count": 2,
   "metadata": {},
   "outputs": [
    {
     "name": "stdout",
     "output_type": "stream",
     "text": [
      "{'_id': 'France', 'total_production_gwh': 14580998.472342}\n",
      "{'_id': 'China', 'total_production_gwh': 13147611.187276}\n",
      "{'_id': 'India', 'total_production_gwh': 12338740.187822}\n",
      "{'_id': 'Japan', 'total_production_gwh': 12299101.690652}\n",
      "{'_id': 'Brazil', 'total_production_gwh': 11927233.793026}\n",
      "{'_id': 'Germany', 'total_production_gwh': 11899834.622275}\n",
      "{'_id': 'Russia', 'total_production_gwh': 11770245.620262}\n",
      "{'_id': 'Australia', 'total_production_gwh': 11701924.999330001}\n",
      "{'_id': 'Canada', 'total_production_gwh': 11265537.335835}\n",
      "{'_id': 'USA', 'total_production_gwh': 10926759.774711}\n"
     ]
    }
   ],
   "source": [
    "pipeline = [\n",
    "    {'$group': {'_id': '$country', 'total_production_gwh': {'$sum': '$production_gwh'}}},\n",
    "    {'$sort': {'total_production_gwh': -1}},\n",
    "    {'$limit': 10}\n",
    "]\n",
    "\n",
    "top_countries = list(collection.aggregate(pipeline))\n",
    "\n",
    "for country in top_countries:\n",
    "    print(country)"
   ]
  },
  {
   "cell_type": "markdown",
   "metadata": {},
   "source": [
    "### 2. Yearly Energy Production Trend"
   ]
  },
  {
   "cell_type": "code",
   "execution_count": 5,
   "metadata": {},
   "outputs": [
    {
     "name": "stdout",
     "output_type": "stream",
     "text": [
      "{'_id': 2000, 'total_production_gwh': 4590689.080261}\n",
      "{'_id': 2001, 'total_production_gwh': 5440587.781907}\n",
      "{'_id': 2002, 'total_production_gwh': 5351368.42204}\n",
      "{'_id': 2003, 'total_production_gwh': 4921058.027977}\n",
      "{'_id': 2004, 'total_production_gwh': 5212648.442055}\n",
      "{'_id': 2005, 'total_production_gwh': 4458517.953081}\n",
      "{'_id': 2006, 'total_production_gwh': 5564454.40722}\n",
      "{'_id': 2007, 'total_production_gwh': 5856548.525026}\n",
      "{'_id': 2008, 'total_production_gwh': 5747579.617306}\n",
      "{'_id': 2009, 'total_production_gwh': 4057895.467512}\n",
      "{'_id': 2010, 'total_production_gwh': 6454394.100544}\n",
      "{'_id': 2011, 'total_production_gwh': 5251513.451259}\n",
      "{'_id': 2012, 'total_production_gwh': 3827838.23793}\n",
      "{'_id': 2013, 'total_production_gwh': 4249676.124809}\n",
      "{'_id': 2014, 'total_production_gwh': 5858338.467934}\n",
      "{'_id': 2015, 'total_production_gwh': 4477054.712707}\n",
      "{'_id': 2016, 'total_production_gwh': 6025052.207498}\n",
      "{'_id': 2017, 'total_production_gwh': 4114649.882787}\n",
      "{'_id': 2018, 'total_production_gwh': 6052051.140454}\n",
      "{'_id': 2019, 'total_production_gwh': 5183835.510099}\n",
      "{'_id': 2020, 'total_production_gwh': 4371145.3505690005}\n",
      "{'_id': 2021, 'total_production_gwh': 4708488.453939}\n",
      "{'_id': 2022, 'total_production_gwh': 4722374.870061}\n",
      "{'_id': 2023, 'total_production_gwh': 5360227.448556}\n"
     ]
    }
   ],
   "source": [
    "pipeline = [\n",
    "    {'$group': {'_id': '$year', 'total_production_gwh': {'$sum': '$production_gwh'}}},\n",
    "    {'$sort': {'_id': 1}}\n",
    "]\n",
    "\n",
    "yearly_trend = list(collection.aggregate(pipeline))\n",
    "\n",
    "for year in yearly_trend:\n",
    "    print(year)"
   ]
  },
  {
   "cell_type": "markdown",
   "metadata": {},
   "source": [
    "### 3. Total Investments by Country"
   ]
  },
  {
   "cell_type": "code",
   "execution_count": 6,
   "metadata": {},
   "outputs": [
    {
     "name": "stdout",
     "output_type": "stream",
     "text": [
      "{'_id': 'Japan', 'total_investments_usd': 1256971124109.811}\n",
      "{'_id': 'China', 'total_investments_usd': 1218560194984.245}\n",
      "{'_id': 'Canada', 'total_investments_usd': 1131853396992.3}\n",
      "{'_id': 'Australia', 'total_investments_usd': 1210016447697.1}\n",
      "{'_id': 'India', 'total_investments_usd': 1312303684810.123}\n",
      "{'_id': 'Brazil', 'total_investments_usd': 1204817100801.28}\n",
      "{'_id': 'Russia', 'total_investments_usd': 1170506021659.4}\n",
      "{'_id': 'USA', 'total_investments_usd': 1230603960570.83}\n",
      "{'_id': 'France', 'total_investments_usd': 1472549753505.7}\n",
      "{'_id': 'Germany', 'total_investments_usd': 1182204988926.07}\n"
     ]
    }
   ],
   "source": [
    "pipeline = [\n",
    "    {'$group': {'_id': '$country', 'total_investments_usd': {'$sum': '$investments_usd'}}}\n",
    "]\n",
    "\n",
    "total_investments = list(collection.aggregate(pipeline))\n",
    "\n",
    "for country in total_investments:\n",
    "    print(country)"
   ]
  },
  {
   "cell_type": "markdown",
   "metadata": {},
   "source": [
    "### 4. Average Installed Capacity by Energy Type"
   ]
  },
  {
   "cell_type": "code",
   "execution_count": 16,
   "metadata": {},
   "outputs": [
    {
     "name": "stdout",
     "output_type": "stream",
     "text": [
      "{'_id': 'Geothermal', 'avg_installed_capacity_mw': 24808.11870567686}\n",
      "{'_id': 'Wind', 'avg_installed_capacity_mw': 25041.402946841048}\n",
      "{'_id': 'Hydro', 'avg_installed_capacity_mw': 25296.572152680328}\n",
      "{'_id': 'Biomass', 'avg_installed_capacity_mw': 25053.445312135427}\n",
      "{'_id': 'Solar', 'avg_installed_capacity_mw': 24243.502322116437}\n"
     ]
    }
   ],
   "source": [
    "pipeline = [\n",
    "    {'$group': {'_id': '$energy_type', 'avg_installed_capacity_mw': {'$avg': '$installed_capacity_mw'}}},\n",
    "     {'$sort': {'installed_capacity_mw': -1}}\n",
    "]\n",
    "\n",
    "avg_capacity = list(collection.aggregate(pipeline))\n",
    "\n",
    "for energy_type in avg_capacity:\n",
    "    print(energy_type)"
   ]
  },
  {
   "cell_type": "markdown",
   "metadata": {},
   "source": [
    "### 5. Top 5 Countries by Renewable Energy Jobs"
   ]
  },
  {
   "cell_type": "code",
   "execution_count": 17,
   "metadata": {},
   "outputs": [
    {
     "name": "stdout",
     "output_type": "stream",
     "text": [
      "{'_id': 'France', 'total_jobs': 144027457}\n",
      "{'_id': 'China', 'total_jobs': 131381483}\n",
      "{'_id': 'Brazil', 'total_jobs': 127752974}\n",
      "{'_id': 'Australia', 'total_jobs': 126928636}\n",
      "{'_id': 'Japan', 'total_jobs': 126454049}\n"
     ]
    }
   ],
   "source": [
    "pipeline = [\n",
    "    {'$group': {'_id': '$country', 'total_jobs': {'$sum': '$renewable_energy_jobs'}}},\n",
    "    {'$sort': {'total_jobs': -1}},\n",
    " {'$limit': 5}\n",
    "]\n",
    "\n",
    "top_jobs_countries = list(collection.aggregate(pipeline))\n",
    "\n",
    "for country in top_jobs_countries:\n",
    "    print(country)"
   ]
  },
  {
   "cell_type": "markdown",
   "metadata": {},
   "source": [
    "### 6. Total CO2 Emissions by Year"
   ]
  },
  {
   "cell_type": "code",
   "execution_count": 18,
   "metadata": {},
   "outputs": [
    {
     "name": "stdout",
     "output_type": "stream",
     "text": [
      "{'_id': 2000, 'total_co2_emissions': 45782093.046782}\n",
      "{'_id': 2001, 'total_co2_emissions': 53166914.292668}\n",
      "{'_id': 2002, 'total_co2_emissions': 51174890.255513}\n",
      "{'_id': 2003, 'total_co2_emissions': 51901928.98251}\n",
      "{'_id': 2004, 'total_co2_emissions': 51681127.165321}\n",
      "{'_id': 2005, 'total_co2_emissions': 43100970.23176}\n",
      "{'_id': 2006, 'total_co2_emissions': 59988429.91132}\n",
      "{'_id': 2007, 'total_co2_emissions': 64802084.78506}\n",
      "{'_id': 2008, 'total_co2_emissions': 56243901.989466}\n",
      "{'_id': 2009, 'total_co2_emissions': 46616274.80379}\n",
      "{'_id': 2010, 'total_co2_emissions': 67364565.855822}\n",
      "{'_id': 2011, 'total_co2_emissions': 48168747.23964}\n",
      "{'_id': 2012, 'total_co2_emissions': 47475980.27143}\n",
      "{'_id': 2013, 'total_co2_emissions': 43126618.4533}\n",
      "{'_id': 2014, 'total_co2_emissions': 58601780.201629}\n",
      "{'_id': 2015, 'total_co2_emissions': 44145020.43509}\n",
      "{'_id': 2016, 'total_co2_emissions': 53939603.762052}\n",
      "{'_id': 2017, 'total_co2_emissions': 36415745.623151}\n",
      "{'_id': 2018, 'total_co2_emissions': 59543064.764072}\n",
      "{'_id': 2019, 'total_co2_emissions': 48699286.21783}\n",
      "{'_id': 2020, 'total_co2_emissions': 51719115.997356}\n",
      "{'_id': 2021, 'total_co2_emissions': 47663109.89571}\n",
      "{'_id': 2022, 'total_co2_emissions': 46179950.21853}\n",
      "{'_id': 2023, 'total_co2_emissions': 50544827.20657}\n"
     ]
    }
   ],
   "source": [
    "pipeline = [\n",
    "    {'$group': {'_id': '$year', 'total_co2_emissions': {'$sum': '$co2_emissions'}}},\n",
    "    {'$sort': {'_id': 1}}\n",
    "]\n",
    "\n",
    "co2_emissions_yearly = list(collection.aggregate(pipeline))\n",
    "\n",
    "for year in co2_emissions_yearly:\n",
    "    print(year)"
   ]
  },
  {
   "cell_type": "markdown",
   "metadata": {},
   "source": [
    "### 7. Average Energy Consumption by Country"
   ]
  },
  {
   "cell_type": "code",
   "execution_count": 19,
   "metadata": {},
   "outputs": [
    {
     "name": "stdout",
     "output_type": "stream",
     "text": [
      "{'_id': 'France', 'avg_energy_consumption': 497681.3471545135}\n",
      "{'_id': 'USA', 'avg_energy_consumption': 495484.2923438851}\n",
      "{'_id': 'Canada', 'avg_energy_consumption': 506239.27105300856}\n",
      "{'_id': 'Australia', 'avg_energy_consumption': 469529.09369784896}\n",
      "{'_id': 'Russia', 'avg_energy_consumption': 498915.6917918326}\n",
      "{'_id': 'China', 'avg_energy_consumption': 477611.4210834847}\n",
      "{'_id': 'India', 'avg_energy_consumption': 509943.30029516865}\n",
      "{'_id': 'Japan', 'avg_energy_consumption': 546051.9320065061}\n",
      "{'_id': 'Germany', 'avg_energy_consumption': 479086.4299059917}\n",
      "{'_id': 'Brazil', 'avg_energy_consumption': 476372.24914625817}\n"
     ]
    }
   ],
   "source": [
    "pipeline = [\n",
    "    {'$group': {'_id': '$country', 'avg_energy_consumption': {'$avg': '$energy_consumption'}}}\n",
    "]\n",
    "\n",
    "avg_consumption = list(collection.aggregate(pipeline))\n",
    "\n",
    "for country in avg_consumption:\n",
    "    print(country)"
   ]
  },
  {
   "cell_type": "markdown",
   "metadata": {},
   "source": [
    "### 8. Total Energy Exports by Country"
   ]
  },
  {
   "cell_type": "code",
   "execution_count": 20,
   "metadata": {},
   "outputs": [
    {
     "name": "stdout",
     "output_type": "stream",
     "text": [
      "{'_id': 'USA', 'total_energy_exports': 11394594.459039}\n",
      "{'_id': 'Australia', 'total_energy_exports': 11970907.639051}\n",
      "{'_id': 'Canada', 'total_energy_exports': 11417575.369416}\n",
      "{'_id': 'China', 'total_energy_exports': 13882566.813869}\n",
      "{'_id': 'India', 'total_energy_exports': 12821224.69714}\n",
      "{'_id': 'Japan', 'total_energy_exports': 12398227.292166}\n",
      "{'_id': 'Germany', 'total_energy_exports': 12196890.004929}\n",
      "{'_id': 'Brazil', 'total_energy_exports': 12970803.736314}\n",
      "{'_id': 'Russia', 'total_energy_exports': 12021802.862335}\n",
      "{'_id': 'France', 'total_energy_exports': 14283888.692094}\n"
     ]
    }
   ],
   "source": [
    "pipeline = [\n",
    "    {'$group': {'_id': '$country', 'total_energy_exports': {'$sum': '$energy_exports'}}}\n",
    "]\n",
    "\n",
    "total_exports = list(collection.aggregate(pipeline))\n",
    "\n",
    "for country in total_exports:\n",
    "    print(country)"
   ]
  },
  {
   "cell_type": "markdown",
   "metadata": {},
   "source": [
    "### 9. Energy Production by Energy Type"
   ]
  },
  {
   "cell_type": "code",
   "execution_count": 21,
   "metadata": {},
   "outputs": [
    {
     "name": "stdout",
     "output_type": "stream",
     "text": [
      "{'_id': 'Geothermal', 'total_production_gwh': 24650719.443628}\n",
      "{'_id': 'Solar', 'total_production_gwh': 24060361.701533}\n",
      "{'_id': 'Wind', 'total_production_gwh': 24335193.644959}\n",
      "{'_id': 'Hydro', 'total_production_gwh': 23966006.885097}\n",
      "{'_id': 'Biomass', 'total_production_gwh': 24845706.008314}\n"
     ]
    }
   ],
   "source": [
    "pipeline = [\n",
    "    {'$group': {'_id': '$energy_type', 'total_production_gwh': {'$sum': '$production_gwh'}}}\n",
    "]\n",
    "\n",
    "production_by_type = list(collection.aggregate(pipeline))\n",
    "\n",
    "for energy_type in production_by_type:\n",
    "    print(energy_type)"
   ]
  },
  {
   "cell_type": "markdown",
   "metadata": {},
   "source": [
    "### 10. Top 5 Countries by Energy Storage Capacity"
   ]
  },
  {
   "cell_type": "code",
   "execution_count": 22,
   "metadata": {},
   "outputs": [
    {
     "name": "stdout",
     "output_type": "stream",
     "text": [
      "{'_id': 'France', 'total_storage_capacity': 145571.459617484}\n",
      "{'_id': 'India', 'total_storage_capacity': 133233.633439691}\n",
      "{'_id': 'China', 'total_storage_capacity': 132830.400581919}\n",
      "{'_id': 'Japan', 'total_storage_capacity': 131127.36704147}\n",
      "{'_id': 'Australia', 'total_storage_capacity': 128565.674182008}\n"
     ]
    }
   ],
   "source": [
    "pipeline = [\n",
    "    {'$group': {'_id': '$country', 'total_storage_capacity': {'$sum': '$energy_storage_capacity'}}},\n",
    "    {'$sort': {'total_storage_capacity': -1}},\n",
    "    {'$limit': 5}\n",
    "]\n",
    "\n",
    "top_storage_countries = list(collection.aggregate(pipeline))\n",
    "\n",
    "for country in top_storage_countries:\n",
    "    print(country)"
   ]
  },
  {
   "cell_type": "markdown",
   "metadata": {},
   "source": [
    "### 11. Government Policies Impact on Renewable Energy Jobs"
   ]
  },
  {
   "cell_type": "code",
   "execution_count": 23,
   "metadata": {},
   "outputs": [
    {
     "name": "stdout",
     "output_type": "stream",
     "text": [
      "{'_id': 1, 'total_jobs': 634584891}\n",
      "{'_id': 0, 'total_jobs': 622655318}\n"
     ]
    }
   ],
   "source": [
    "pipeline = [\n",
    "    {'$group': {'_id': '$government_policies', 'total_jobs': {'$sum': '$renewable_energy_jobs'}}}\n",
    "]\n",
    "\n",
    "policies_impact = list(collection.aggregate(pipeline))\n",
    "\n",
    "for policy in policies_impact:\n",
    "    print(policy)"
   ]
  },
  {
   "cell_type": "markdown",
   "metadata": {},
   "source": [
    "### 12. Total Energy Imports by Year"
   ]
  },
  {
   "cell_type": "code",
   "execution_count": 24,
   "metadata": {},
   "outputs": [
    {
     "name": "stdout",
     "output_type": "stream",
     "text": [
      "{'_id': 2000, 'total_energy_imports': 4285772.785992}\n",
      "{'_id': 2001, 'total_energy_imports': 5167498.98712}\n",
      "{'_id': 2002, 'total_energy_imports': 5383078.83684}\n",
      "{'_id': 2003, 'total_energy_imports': 5208064.717205}\n",
      "{'_id': 2004, 'total_energy_imports': 5886562.395305}\n",
      "{'_id': 2005, 'total_energy_imports': 4878569.69705}\n",
      "{'_id': 2006, 'total_energy_imports': 5736123.842855}\n",
      "{'_id': 2007, 'total_energy_imports': 6068821.631103}\n",
      "{'_id': 2008, 'total_energy_imports': 6159816.870318}\n",
      "{'_id': 2009, 'total_energy_imports': 4016136.27516}\n",
      "{'_id': 2010, 'total_energy_imports': 6495792.796454}\n",
      "{'_id': 2011, 'total_energy_imports': 5789534.565891}\n",
      "{'_id': 2012, 'total_energy_imports': 4263755.359508}\n",
      "{'_id': 2013, 'total_energy_imports': 3989871.357865}\n",
      "{'_id': 2014, 'total_energy_imports': 6512999.696879}\n",
      "{'_id': 2015, 'total_energy_imports': 4557843.014792}\n",
      "{'_id': 2016, 'total_energy_imports': 6058387.184009}\n",
      "{'_id': 2017, 'total_energy_imports': 4447865.195095}\n",
      "{'_id': 2018, 'total_energy_imports': 6199596.676211}\n",
      "{'_id': 2019, 'total_energy_imports': 4933024.562435}\n",
      "{'_id': 2020, 'total_energy_imports': 5032221.0519820005}\n",
      "{'_id': 2021, 'total_energy_imports': 5217446.015159}\n",
      "{'_id': 2022, 'total_energy_imports': 5004508.987408}\n",
      "{'_id': 2023, 'total_energy_imports': 5707642.174227}\n"
     ]
    }
   ],
   "source": [
    "pipeline = [\n",
    "    {'$group': {'_id': '$year', 'total_energy_imports': {'$sum': '$energy_imports'}}},\n",
    "    {'$sort': {'_id': 1}}\n",
    "]\n",
    "\n",
    "total_imports = list(collection.aggregate(pipeline))\n",
    "\n",
    "for year in total_imports:\n",
    "    print(year)"
   ]
  },
  {
   "cell_type": "markdown",
   "metadata": {},
   "source": [
    "### 13. R&D Expenditure by Country"
   ]
  },
  {
   "cell_type": "code",
   "execution_count": 25,
   "metadata": {},
   "outputs": [
    {
     "name": "stdout",
     "output_type": "stream",
     "text": [
      "{'_id': 'Canada', 'total_r_d_expenditure': 0}\n",
      "{'_id': 'Australia', 'total_r_d_expenditure': 0}\n",
      "{'_id': 'Russia', 'total_r_d_expenditure': 0}\n",
      "{'_id': 'China', 'total_r_d_expenditure': 0}\n",
      "{'_id': 'India', 'total_r_d_expenditure': 0}\n",
      "{'_id': 'USA', 'total_r_d_expenditure': 0}\n",
      "{'_id': 'Brazil', 'total_r_d_expenditure': 0}\n",
      "{'_id': 'France', 'total_r_d_expenditure': 0}\n",
      "{'_id': 'Germany', 'total_r_d_expenditure': 0}\n",
      "{'_id': 'Japan', 'total_r_d_expenditure': 0}\n"
     ]
    }
   ],
   "source": [
    "pipeline = [\n",
    "    {'$group': {'_id': '$country', 'total_r_d_expenditure': {'$sum': '$r_d_expenditure'}}}\n",
    "]\n",
    "\n",
    "r_d_expenditure = list(collection.aggregate(pipeline))\n",
    "\n",
    "for country in r_d_expenditure:\n",
    "    print(country)"
   ]
  },
  {
   "cell_type": "markdown",
   "metadata": {},
   "source": [
    "### 14. Renewable Energy Targets by Country"
   ]
  },
  {
   "cell_type": "code",
   "execution_count": 26,
   "metadata": {},
   "outputs": [
    {
     "name": "stdout",
     "output_type": "stream",
     "text": [
      "{'_id': 'Canada', 'renewable_targets': 109}\n",
      "{'_id': 'Australia', 'renewable_targets': 119}\n",
      "{'_id': 'Russia', 'renewable_targets': 125}\n",
      "{'_id': 'China', 'renewable_targets': 124}\n",
      "{'_id': 'India', 'renewable_targets': 131}\n",
      "{'_id': 'USA', 'renewable_targets': 116}\n",
      "{'_id': 'Brazil', 'renewable_targets': 119}\n",
      "{'_id': 'France', 'renewable_targets': 149}\n",
      "{'_id': 'Germany', 'renewable_targets': 128}\n",
      "{'_id': 'Japan', 'renewable_targets': 117}\n"
     ]
    }
   ],
   "source": [
    "pipeline = [\n",
    "    {'$group': {'_id': '$country', 'renewable_targets': {'$sum': '$renewable_energy_targets'}}}\n",
    "]\n",
    "\n",
    "renewable_targets = list(collection.aggregate(pipeline))\n",
    "\n",
    "for country in renewable_targets:\n",
    "    print(country)"
   ]
  },
  {
   "cell_type": "markdown",
   "metadata": {},
   "source": [
    "### 15. Average Annual Temperature by Country"
   ]
  },
  {
   "cell_type": "code",
   "execution_count": 27,
   "metadata": {},
   "outputs": [
    {
     "name": "stdout",
     "output_type": "stream",
     "text": [
      "{'_id': 'USA', 'avg_annual_temperature': 14.96959825004681}\n",
      "{'_id': 'Australia', 'avg_annual_temperature': 14.260279256318368}\n",
      "{'_id': 'Canada', 'avg_annual_temperature': 15.342242834717949}\n",
      "{'_id': 'China', 'avg_annual_temperature': 15.201040376652672}\n",
      "{'_id': 'India', 'avg_annual_temperature': 14.982111585172692}\n",
      "{'_id': 'Japan', 'avg_annual_temperature': 15.683473013574298}\n",
      "{'_id': 'Germany', 'avg_annual_temperature': 14.363869723609959}\n",
      "{'_id': 'Brazil', 'avg_annual_temperature': 15.389531557495902}\n",
      "{'_id': 'Russia', 'avg_annual_temperature': 16.89341493207347}\n",
      "{'_id': 'France', 'avg_annual_temperature': 16.394380793993243}\n"
     ]
    }
   ],
   "source": [
    "pipeline = [\n",
    "    {'$group': {'_id': '$country', 'avg_annual_temperature': {'$avg': '$average_annual_temperature'}}}\n",
    "]\n",
    "\n",
    "avg_temperature = list(collection.aggregate(pipeline))\n",
    "\n",
    "for country in avg_temperature:\n",
    "    print(country)"
   ]
  },
  {
   "cell_type": "markdown",
   "metadata": {},
   "source": [
    "### 16. Annual Rainfall by Year"
   ]
  },
  {
   "cell_type": "code",
   "execution_count": 30,
   "metadata": {},
   "outputs": [
    {
     "name": "stdout",
     "output_type": "stream",
     "text": [
      "{'_id': 2000, 'total_annual_rainfall': 144536.6539867}\n",
      "{'_id': 2001, 'total_annual_rainfall': 180428.0463235}\n",
      "{'_id': 2002, 'total_annual_rainfall': 184011.1168404}\n",
      "{'_id': 2003, 'total_annual_rainfall': 169680.4323112}\n",
      "{'_id': 2004, 'total_annual_rainfall': 159389.2893324}\n",
      "{'_id': 2005, 'total_annual_rainfall': 134863.4225538}\n",
      "{'_id': 2006, 'total_annual_rainfall': 177564.8651245}\n",
      "{'_id': 2007, 'total_annual_rainfall': 186935.4412496}\n",
      "{'_id': 2008, 'total_annual_rainfall': 175562.5394764}\n",
      "{'_id': 2009, 'total_annual_rainfall': 148657.7656842}\n",
      "{'_id': 2010, 'total_annual_rainfall': 211290.408792}\n",
      "{'_id': 2011, 'total_annual_rainfall': 171897.8620345}\n",
      "{'_id': 2012, 'total_annual_rainfall': 124785.5803991}\n",
      "{'_id': 2013, 'total_annual_rainfall': 128470.7390251}\n",
      "{'_id': 2014, 'total_annual_rainfall': 194932.3769399}\n",
      "{'_id': 2015, 'total_annual_rainfall': 136807.4322611}\n",
      "{'_id': 2016, 'total_annual_rainfall': 202642.6543244}\n",
      "{'_id': 2017, 'total_annual_rainfall': 129063.0549251}\n",
      "{'_id': 2018, 'total_annual_rainfall': 204947.2697887}\n",
      "{'_id': 2019, 'total_annual_rainfall': 155369.2466267}\n",
      "{'_id': 2020, 'total_annual_rainfall': 153478.1652818}\n",
      "{'_id': 2021, 'total_annual_rainfall': 161306.2837651}\n",
      "{'_id': 2022, 'total_annual_rainfall': 142685.6682254}\n",
      "{'_id': 2023, 'total_annual_rainfall': 174875.7911893}\n"
     ]
    }
   ],
   "source": [
    "pipeline = [\n",
    "    {'$group': {'_id': '$year', 'total_annual_rainfall': {'$sum': '$annual_rainfall'}}},\n",
    "    {'$sort': {'_id': 1}}\n",
    "]\n",
    "\n",
    "annual_rainfall = list(collection.aggregate(pipeline))\n",
    "\n",
    "for year in annual_rainfall:\n",
    "    print(year)"
   ]
  },
  {
   "cell_type": "markdown",
   "metadata": {},
   "source": [
    "### 17. Solar Irradiance by Country"
   ]
  },
  {
   "cell_type": "code",
   "execution_count": 31,
   "metadata": {},
   "outputs": [
    {
     "name": "stdout",
     "output_type": "stream",
     "text": [
      "{'_id': 'Japan', 'avg_solar_irradiance': 198.1466703437751}\n",
      "{'_id': 'China', 'avg_solar_irradiance': 198.58650462251907}\n",
      "{'_id': 'Canada', 'avg_solar_irradiance': 201.060972541453}\n",
      "{'_id': 'Australia', 'avg_solar_irradiance': 201.70951575020408}\n",
      "{'_id': 'India', 'avg_solar_irradiance': 196.69693376706826}\n",
      "{'_id': 'Brazil', 'avg_solar_irradiance': 206.0617007815574}\n",
      "{'_id': 'Russia', 'avg_solar_irradiance': 199.60541028816328}\n",
      "{'_id': 'USA', 'avg_solar_irradiance': 198.22615820595746}\n",
      "{'_id': 'France', 'avg_solar_irradiance': 204.11540423952704}\n",
      "{'_id': 'Germany', 'avg_solar_irradiance': 198.9315383614108}\n"
     ]
    }
   ],
   "source": [
    "pipeline = [\n",
    "    {'$group': {'_id': '$country', 'avg_solar_irradiance': {'$avg': '$solar_irradiance'}}}\n",
    "]\n",
    "\n",
    "solar_irradiance = list(collection.aggregate(pipeline))\n",
    "\n",
    "for country in solar_irradiance:\n",
    "    print(country)"
   ]
  },
  {
   "cell_type": "markdown",
   "metadata": {},
   "source": [
    "### 18. Wind Speed by Country"
   ]
  },
  {
   "cell_type": "code",
   "execution_count": 32,
   "metadata": {},
   "outputs": [
    {
     "name": "stdout",
     "output_type": "stream",
     "text": [
      "{'_id': 'USA', 'avg_wind_speed': 7.111539517617021}\n",
      "{'_id': 'Australia', 'avg_wind_speed': 7.295178345024489}\n",
      "{'_id': 'Canada', 'avg_wind_speed': 7.53499593882906}\n",
      "{'_id': 'China', 'avg_wind_speed': 7.346961037229008}\n",
      "{'_id': 'India', 'avg_wind_speed': 7.614405808534136}\n",
      "{'_id': 'Japan', 'avg_wind_speed': 7.4748622802409646}\n",
      "{'_id': 'Germany', 'avg_wind_speed': 7.364797865929461}\n",
      "{'_id': 'Brazil', 'avg_wind_speed': 7.589971141397541}\n",
      "{'_id': 'Russia', 'avg_wind_speed': 7.713559156465306}\n",
      "{'_id': 'France', 'avg_wind_speed': 7.752486282266891}\n"
     ]
    }
   ],
   "source": [
    "pipeline = [\n",
    "    {'$group': {'_id': '$country', 'avg_wind_speed': {'$avg': '$wind_speed'}}}\n",
    "]\n",
    "\n",
    "wind_speed = list(collection.aggregate(pipeline))\n",
    "\n",
    "for country in wind_speed:\n",
    "    print(country)"
   ]
  },
  {
   "cell_type": "markdown",
   "metadata": {},
   "source": [
    "### 19. Hydro Potential by Country"
   ]
  },
  {
   "cell_type": "code",
   "execution_count": 33,
   "metadata": {},
   "outputs": [
    {
     "name": "stdout",
     "output_type": "stream",
     "text": [
      "{'_id': 'Japan', 'total_hydro_potential': 12708.125107662}\n",
      "{'_id': 'China', 'total_hydro_potential': 12126.262181256}\n",
      "{'_id': 'Canada', 'total_hydro_potential': 12348.637031375}\n",
      "{'_id': 'Australia', 'total_hydro_potential': 12438.254158788}\n",
      "{'_id': 'India', 'total_hydro_potential': 12255.219159337}\n",
      "{'_id': 'Brazil', 'total_hydro_potential': 12262.817159863}\n",
      "{'_id': 'Russia', 'total_hydro_potential': 11722.44694385}\n",
      "{'_id': 'USA', 'total_hydro_potential': 11720.910853365}\n",
      "{'_id': 'France', 'total_hydro_potential': 14982.8244286}\n",
      "{'_id': 'Germany', 'total_hydro_potential': 12185.231584808}\n"
     ]
    }
   ],
   "source": [
    "pipeline = [\n",
    "    {'$group': {'_id': '$country', 'total_hydro_potential': {'$sum': '$hydro_potential'}}}\n",
    "]\n",
    "\n",
    "hydro_potential = list(collection.aggregate(pipeline))\n",
    "\n",
    "for country in hydro_potential:\n",
    "    print(country)"
   ]
  },
  {
   "cell_type": "markdown",
   "metadata": {},
   "source": [
    "### 20. Geothermal Potential by Country"
   ]
  },
  {
   "cell_type": "code",
   "execution_count": 34,
   "metadata": {},
   "outputs": [
    {
     "name": "stdout",
     "output_type": "stream",
     "text": [
      "{'_id': 'USA', 'total_geothermal_potential': 10808.721239373}\n",
      "{'_id': 'Australia', 'total_geothermal_potential': 12370.275584696}\n",
      "{'_id': 'Canada', 'total_geothermal_potential': 11360.112219015}\n",
      "{'_id': 'China', 'total_geothermal_potential': 13243.83993648}\n",
      "{'_id': 'India', 'total_geothermal_potential': 13296.718645957}\n",
      "{'_id': 'Japan', 'total_geothermal_potential': 12232.496649775}\n",
      "{'_id': 'Germany', 'total_geothermal_potential': 12227.04346415}\n",
      "{'_id': 'Brazil', 'total_geothermal_potential': 12758.639447901}\n",
      "{'_id': 'Russia', 'total_geothermal_potential': 11963.275583474}\n",
      "{'_id': 'France', 'total_geothermal_potential': 14528.597940491}\n"
     ]
    }
   ],
   "source": [
    "pipeline = [\n",
    "    {'$group': {'_id': '$country', 'total_geothermal_potential': {'$sum': '$geothermal_potential'}}}\n",
    "]\n",
    "\n",
    "geothermal_potential = list(collection.aggregate(pipeline))\n",
    "\n",
    "for country in geothermal_potential:\n",
    "    print(country)"
   ]
  },
  {
   "cell_type": "markdown",
   "metadata": {},
   "source": [
    "### 21. Biomass Availability by Country"
   ]
  },
  {
   "cell_type": "code",
   "execution_count": 35,
   "metadata": {},
   "outputs": [
    {
     "name": "stdout",
     "output_type": "stream",
     "text": [
      "{'_id': 'USA', 'total_biomass_availability': 11656.702336961}\n",
      "{'_id': 'Australia', 'total_biomass_availability': 12581.550266583}\n",
      "{'_id': 'Canada', 'total_biomass_availability': 11437.394079287}\n",
      "{'_id': 'China', 'total_biomass_availability': 13052.281573104001}\n",
      "{'_id': 'India', 'total_biomass_availability': 12479.236976189}\n",
      "{'_id': 'Japan', 'total_biomass_availability': 12959.673111584}\n",
      "{'_id': 'Germany', 'total_biomass_availability': 11868.1551088}\n",
      "{'_id': 'Brazil', 'total_biomass_availability': 12482.908047817}\n",
      "{'_id': 'Russia', 'total_biomass_availability': 12144.23765586}\n",
      "{'_id': 'France', 'total_biomass_availability': 14018.973482916}\n"
     ]
    }
   ],
   "source": [
    "pipeline = [\n",
    "    {'$group': {'_id': '$country', 'total_biomass_availability': {'$sum': '$biomass_availability'}}}\n",
    "]\n",
    "\n",
    "biomass_availability = list(collection.aggregate(pipeline)\n",
    "                           )\n",
    "for country in biomass_availability:\n",
    "    print(country)"
   ]
  },
  {
   "cell_type": "markdown",
   "metadata": {},
   "source": [
    "### 22. Grid Integration Capability by Country"
   ]
  },
  {
   "cell_type": "code",
   "execution_count": 36,
   "metadata": {},
   "outputs": [
    {
     "name": "stdout",
     "output_type": "stream",
     "text": [
      "{'_id': 'China', 'grid_integration_capability': 126.065458775}\n",
      "{'_id': 'India', 'grid_integration_capability': 120.238383956}\n",
      "{'_id': 'Australia', 'grid_integration_capability': 123.615182602}\n",
      "{'_id': 'Canada', 'grid_integration_capability': 111.095574611}\n",
      "{'_id': 'Germany', 'grid_integration_capability': 114.264303748}\n",
      "{'_id': 'Brazil', 'grid_integration_capability': 119.240535526}\n",
      "{'_id': 'USA', 'grid_integration_capability': 117.686173885}\n",
      "{'_id': 'Russia', 'grid_integration_capability': 126.191552259}\n",
      "{'_id': 'France', 'grid_integration_capability': 145.101001378}\n",
      "{'_id': 'Japan', 'grid_integration_capability': 124.720287785}\n"
     ]
    }
   ],
   "source": [
    "pipeline = [\n",
    "    {'$group': {'_id': '$country', 'grid_integration_capability': {'$sum': '$grid_integration_capability'}}}\n",
    "]\n",
    "\n",
    "grid_integration = list(collection.aggregate(pipeline))\n",
    "\n",
    "for country in grid_integration:\n",
    "    print(country)"
   ]
  },
  {
   "cell_type": "markdown",
   "metadata": {},
   "source": [
    "### 23. Electricity Prices by Country"
   ]
  },
  {
   "cell_type": "code",
   "execution_count": 37,
   "metadata": {},
   "outputs": [
    {
     "name": "stdout",
     "output_type": "stream",
     "text": [
      "{'_id': 'Japan', 'avg_electricity_prices': 0.2779759660200803}\n",
      "{'_id': 'China', 'avg_electricity_prices': 0.2795552686908397}\n",
      "{'_id': 'Canada', 'avg_electricity_prices': 0.26896917603846154}\n",
      "{'_id': 'Australia', 'avg_electricity_prices': 0.2740308362204082}\n",
      "{'_id': 'India', 'avg_electricity_prices': 0.2923151541807229}\n",
      "{'_id': 'Brazil', 'avg_electricity_prices': 0.27353425074180326}\n",
      "{'_id': 'Russia', 'avg_electricity_prices': 0.2864386351959184}\n",
      "{'_id': 'USA', 'avg_electricity_prices': 0.2545006150851064}\n",
      "{'_id': 'France', 'avg_electricity_prices': 0.2728649986283784}\n",
      "{'_id': 'Germany', 'avg_electricity_prices': 0.2813100110456431}\n"
     ]
    }
   ],
   "source": [
    "pipeline = [\n",
    "    {'$group': {'_id': '$country', 'avg_electricity_prices': {'$avg': '$electricity_prices'}}}\n",
    "]\n",
    "\n",
    "electricity_prices = list(collection.aggregate(pipeline))\n",
    "\n",
    "for country in electricity_prices:\n",
    "    print(country)"
   ]
  },
  {
   "cell_type": "markdown",
   "metadata": {},
   "source": [
    "### 24. Energy Subsidies by Country"
   ]
  },
  {
   "cell_type": "code",
   "execution_count": 38,
   "metadata": {},
   "outputs": [
    {
     "name": "stdout",
     "output_type": "stream",
     "text": [
      "{'_id': 'India', 'total_energy_subsidies': 117253705146.825}\n",
      "{'_id': 'Germany', 'total_energy_subsidies': 128175331549.994}\n",
      "{'_id': 'Japan', 'total_energy_subsidies': 119227198152.697}\n",
      "{'_id': 'China', 'total_energy_subsidies': 131759182776.702}\n",
      "{'_id': 'Brazil', 'total_energy_subsidies': 123565516626.895}\n",
      "{'_id': 'France', 'total_energy_subsidies': 152175885953.461}\n",
      "{'_id': 'USA', 'total_energy_subsidies': 110243970895.873}\n",
      "{'_id': 'Canada', 'total_energy_subsidies': 118662929133.31}\n",
      "{'_id': 'Australia', 'total_energy_subsidies': 126578280538.81}\n",
      "{'_id': 'Russia', 'total_energy_subsidies': 123175786820.572}\n"
     ]
    }
   ],
   "source": [
    "pipeline = [\n",
    "    {'$group': {'_id': '$country', 'total_energy_subsidies': {'$sum': '$energy_subsidies'}}}\n",
    "]\n",
    "\n",
    "energy_subsidies = list(collection.aggregate(pipeline))\n",
    "\n",
    "for country in energy_subsidies:\n",
    "    print(country)"
   ]
  },
  {
   "cell_type": "markdown",
   "metadata": {},
   "source": [
    "### 25. Impact of Natural Disasters on Energy Production"
   ]
  },
  {
   "cell_type": "code",
   "execution_count": 39,
   "metadata": {},
   "outputs": [
    {
     "name": "stdout",
     "output_type": "stream",
     "text": [
      "{'_id': 1, 'total_production_gwh': 62706401.271479}\n",
      "{'_id': 0, 'total_production_gwh': 59151586.412052}\n"
     ]
    }
   ],
   "source": [
    "pipeline = [\n",
    "    {'$match': {'natural_disasters': {'$ne': None}}},\n",
    "    {'$group': {'_id': '$natural_disasters', 'total_production_gwh': {'$sum': '$production_gwh'}}}\n",
    "]\n",
    "\n",
    "disaster_impact = list(collection.aggregate(pipeline))\n",
    "\n",
    "for disaster in disaster_impact:\n",
    "    print(disaster)"
   ]
  }
 ],
 "metadata": {
  "kernelspec": {
   "display_name": "Python 3 (ipykernel)",
   "language": "python",
   "name": "python3"
  },
  "language_info": {
   "codemirror_mode": {
    "name": "ipython",
    "version": 3
   },
   "file_extension": ".py",
   "mimetype": "text/x-python",
   "name": "python",
   "nbconvert_exporter": "python",
   "pygments_lexer": "ipython3",
   "version": "3.12.3"
  }
 },
 "nbformat": 4,
 "nbformat_minor": 4
}
