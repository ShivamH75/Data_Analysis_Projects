{
 "cells": [
  {
   "cell_type": "markdown",
   "id": "ff799c19-a629-419f-94ba-a5dcd7308268",
   "metadata": {},
   "source": [
    "<figure class=\"table\"><table><tbody><tr><td><h2><strong>🔍 Python Web Scraping - Cryptocurrency Prices 🪙</strong></h2></td></tr></tbody></table></figure>"
   ]
  },
  {
   "cell_type": "markdown",
   "id": "ff724ec6-4cd8-4ae1-937b-23944280291c",
   "metadata": {},
   "source": [
    "### Import Required libraries and modules"
   ]
  },
  {
   "cell_type": "code",
   "execution_count": null,
   "id": "d07effb3-3fb7-4824-9f68-5f5d81afe803",
   "metadata": {},
   "outputs": [],
   "source": [
    "import requests\n",
    "from bs4 import BeautifulSoup\n",
    "import pandas as pd\n",
    "from io import StringIO"
   ]
  },
  {
   "cell_type": "markdown",
   "id": "fec607bb-a792-45f7-9cf0-34177f720a0f",
   "metadata": {},
   "source": [
    "### Send request to the source page"
   ]
  },
  {
   "cell_type": "code",
   "execution_count": null,
   "id": "f70be02d-cf7e-4186-826f-aa9cf6d4c3e7",
   "metadata": {},
   "outputs": [],
   "source": [
    "url = 'https://finance.yahoo.com/markets/crypto/all/'\n",
    "\n",
    "response = requests.get(url)"
   ]
  },
  {
   "cell_type": "code",
   "execution_count": null,
   "id": "b90757fe-a7b9-4ad8-955d-7e1645569700",
   "metadata": {},
   "outputs": [],
   "source": [
    "print(response)"
   ]
  },
  {
   "cell_type": "markdown",
   "id": "f10d4d9d-7272-4e15-91f3-592bd92671ae",
   "metadata": {},
   "source": [
    "### Parse the HTML content using BeautifulSoup"
   ]
  },
  {
   "cell_type": "code",
   "execution_count": null,
   "id": "56bfbcdf-c060-4e42-837f-d35c50fefe4d",
   "metadata": {},
   "outputs": [],
   "source": [
    "soup = BeautifulSoup(response.text, 'html.parser')"
   ]
  },
  {
   "cell_type": "code",
   "execution_count": null,
   "id": "5759e7d1-f5f0-43cb-9900-d1e342c2f3c6",
   "metadata": {},
   "outputs": [],
   "source": [
    "print(soup)"
   ]
  },
  {
   "cell_type": "markdown",
   "id": "3c7fb190-022f-4ab0-bbae-3c81d46877b6",
   "metadata": {},
   "source": [
    "### Find the table on the page and adjust index"
   ]
  },
  {
   "cell_type": "code",
   "execution_count": null,
   "id": "419023bf-7dfe-49b5-be06-a4615293f6ab",
   "metadata": {},
   "outputs": [],
   "source": [
    "table = soup.find_all('table')[0]"
   ]
  },
  {
   "cell_type": "code",
   "execution_count": null,
   "id": "cd7b8ca9-ac9c-4e65-8d11-6c32a9bed78f",
   "metadata": {},
   "outputs": [],
   "source": [
    "print(table)"
   ]
  },
  {
   "cell_type": "markdown",
   "id": "e5652f5b-1e4c-45a7-a8d1-a2979a51249c",
   "metadata": {},
   "source": [
    "### Convert the table into a pandas DataFrame"
   ]
  },
  {
   "cell_type": "code",
   "execution_count": null,
   "id": "6685f9d7-925e-49d4-ab4d-5b804bfb497f",
   "metadata": {},
   "outputs": [],
   "source": [
    "table_html = str(table)\n",
    "\n",
    "df = pd.read_html(StringIO(table_html))[0]"
   ]
  },
  {
   "cell_type": "code",
   "execution_count": null,
   "id": "caa4badc-e6ac-453d-bb28-8fac245243af",
   "metadata": {},
   "outputs": [],
   "source": [
    "df.head(3)"
   ]
  },
  {
   "cell_type": "markdown",
   "id": "5448b546-3a84-49c5-9427-34834885a8a0",
   "metadata": {},
   "source": [
    "### Make necessary changes to the Columns and data in those columns"
   ]
  },
  {
   "cell_type": "markdown",
   "id": "f4924333-013c-4c87-b5ce-7ecca361b739",
   "metadata": {},
   "source": [
    "##### Observed the data in 'Price' column was concatenated with other data, keeping the price value only within."
   ]
  },
  {
   "cell_type": "code",
   "execution_count": null,
   "id": "7ae6fcb5-980c-4ef8-be64-5d609c9aa728",
   "metadata": {},
   "outputs": [],
   "source": [
    "df['Price'] = df['Price'].str.split(' ', n=1).str[0]"
   ]
  },
  {
   "cell_type": "markdown",
   "id": "9418d4a9-62cf-4d42-acd9-095488a2a0b0",
   "metadata": {},
   "source": [
    "##### Dropping the unnecessary columns (those columns have graphical indicators at the source site)."
   ]
  },
  {
   "cell_type": "code",
   "execution_count": null,
   "id": "6218bf5b-91c9-4b63-95a0-4ec4133fb7ea",
   "metadata": {},
   "outputs": [],
   "source": [
    "df = df.drop(columns=['Day Chart'])\n",
    "df = df.drop(columns=['52 Wk Range'])"
   ]
  },
  {
   "cell_type": "code",
   "execution_count": 49,
   "id": "82728c1d-cafb-4ac8-9883-dc96d37057db",
   "metadata": {},
   "outputs": [
    {
     "data": {
      "text/html": [
       "<div>\n",
       "<style scoped>\n",
       "    .dataframe tbody tr th:only-of-type {\n",
       "        vertical-align: middle;\n",
       "    }\n",
       "\n",
       "    .dataframe tbody tr th {\n",
       "        vertical-align: top;\n",
       "    }\n",
       "\n",
       "    .dataframe thead th {\n",
       "        text-align: right;\n",
       "    }\n",
       "</style>\n",
       "<table border=\"1\" class=\"dataframe\">\n",
       "  <thead>\n",
       "    <tr style=\"text-align: right;\">\n",
       "      <th></th>\n",
       "      <th>Symbol</th>\n",
       "      <th>Price</th>\n",
       "      <th>Change</th>\n",
       "      <th>Change %</th>\n",
       "      <th>Market Cap</th>\n",
       "      <th>Volume</th>\n",
       "      <th>Volume In Currency (24hr)</th>\n",
       "      <th>Total Volume All Currencies (24hr)</th>\n",
       "      <th>Circulating Supply</th>\n",
       "      <th>52 Wk Change %</th>\n",
       "    </tr>\n",
       "  </thead>\n",
       "  <tbody>\n",
       "    <tr>\n",
       "      <th>0</th>\n",
       "      <td>BTC-USD Bitcoin USD</td>\n",
       "      <td>58,537.24</td>\n",
       "      <td>-804.0900</td>\n",
       "      <td>-1.36%</td>\n",
       "      <td>1.156T</td>\n",
       "      <td>19.339B</td>\n",
       "      <td>19.339B</td>\n",
       "      <td>19.339B</td>\n",
       "      <td>19.742M</td>\n",
       "      <td>127.68%</td>\n",
       "    </tr>\n",
       "    <tr>\n",
       "      <th>1</th>\n",
       "      <td>ETH-USD Ethereum USD</td>\n",
       "      <td>2,637.91</td>\n",
       "      <td>38.9500</td>\n",
       "      <td>+1.50%</td>\n",
       "      <td>317.305B</td>\n",
       "      <td>9.932B</td>\n",
       "      <td>9.932B</td>\n",
       "      <td>9.932B</td>\n",
       "      <td>120.287M</td>\n",
       "      <td>56.82%</td>\n",
       "    </tr>\n",
       "    <tr>\n",
       "      <th>2</th>\n",
       "      <td>USDT-USD Tether USDt USD</td>\n",
       "      <td>1.0001</td>\n",
       "      <td>-0.0002</td>\n",
       "      <td>-0.02%</td>\n",
       "      <td>116.896B</td>\n",
       "      <td>37.591B</td>\n",
       "      <td>37.591B</td>\n",
       "      <td>37.591B</td>\n",
       "      <td>116.887B</td>\n",
       "      <td>0.04%</td>\n",
       "    </tr>\n",
       "  </tbody>\n",
       "</table>\n",
       "</div>"
      ],
      "text/plain": [
       "                     Symbol      Price    Change Change % Market Cap   Volume  \\\n",
       "0       BTC-USD Bitcoin USD  58,537.24 -804.0900   -1.36%     1.156T  19.339B   \n",
       "1      ETH-USD Ethereum USD   2,637.91   38.9500   +1.50%   317.305B   9.932B   \n",
       "2  USDT-USD Tether USDt USD     1.0001   -0.0002   -0.02%   116.896B  37.591B   \n",
       "\n",
       "  Volume In Currency (24hr) Total Volume All Currencies (24hr)  \\\n",
       "0                   19.339B                            19.339B   \n",
       "1                    9.932B                             9.932B   \n",
       "2                   37.591B                            37.591B   \n",
       "\n",
       "  Circulating Supply 52 Wk Change %  \n",
       "0            19.742M        127.68%  \n",
       "1           120.287M         56.82%  \n",
       "2           116.887B          0.04%  "
      ]
     },
     "execution_count": 49,
     "metadata": {},
     "output_type": "execute_result"
    }
   ],
   "source": [
    "df.head(3)"
   ]
  },
  {
   "cell_type": "markdown",
   "id": "9044ff57-11a9-45aa-b3ec-20935a0e4f93",
   "metadata": {},
   "source": [
    "### Saving the df to a CSV file"
   ]
  },
  {
   "cell_type": "code",
   "execution_count": 50,
   "id": "ab9e4c4d-19dd-44f8-9ccf-52cca88418d5",
   "metadata": {},
   "outputs": [
    {
     "name": "stdout",
     "output_type": "stream",
     "text": [
      "Data successfully and saved to 'crypto_prices.csv'\n"
     ]
    }
   ],
   "source": [
    "df.to_csv('crypto_prices.csv', index=False)\n",
    "\n",
    "print(\"Data successfully and saved to 'crypto_prices.csv'\")"
   ]
  }
 ],
 "metadata": {
  "kernelspec": {
   "display_name": "Python 3 (ipykernel)",
   "language": "python",
   "name": "python3"
  },
  "language_info": {
   "codemirror_mode": {
    "name": "ipython",
    "version": 3
   },
   "file_extension": ".py",
   "mimetype": "text/x-python",
   "name": "python",
   "nbconvert_exporter": "python",
   "pygments_lexer": "ipython3",
   "version": "3.12.3"
  }
 },
 "nbformat": 4,
 "nbformat_minor": 5
}
